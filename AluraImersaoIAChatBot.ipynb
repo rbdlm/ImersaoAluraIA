{
  "nbformat": 4,
  "nbformat_minor": 0,
  "metadata": {
    "colab": {
      "provenance": [],
      "authorship_tag": "ABX9TyOQjZkE2mOdPz4WENckkTBA",
      "include_colab_link": true
    },
    "kernelspec": {
      "name": "python3",
      "display_name": "Python 3"
    },
    "language_info": {
      "name": "python"
    }
  },
  "cells": [
    {
      "cell_type": "markdown",
      "metadata": {
        "id": "view-in-github",
        "colab_type": "text"
      },
      "source": [
        "<a href=\"https://colab.research.google.com/github/rbdlm/ImersaoAluraIA/blob/main/AluraImersaoIAChatBot.ipynb\" target=\"_parent\"><img src=\"https://colab.research.google.com/assets/colab-badge.svg\" alt=\"Open In Colab\"/></a>"
      ]
    },
    {
      "cell_type": "markdown",
      "source": [
        "# Instalando o SDK do Google"
      ],
      "metadata": {
        "id": "YCaRdMXe5q3V"
      }
    },
    {
      "cell_type": "code",
      "execution_count": null,
      "metadata": {
        "id": "XjvjyLCGxLTM"
      },
      "outputs": [],
      "source": [
        "!pip install -q -U google-generativeai"
      ]
    },
    {
      "cell_type": "markdown",
      "source": [
        "# Set up your API key"
      ],
      "metadata": {
        "id": "eFkNGPOv3BWi"
      }
    },
    {
      "cell_type": "code",
      "source": [
        "# import Python SDK\n",
        "import google.generativeai as genai\n",
        "#used to securely store your API key\n",
        "from google.colab import userdata\n",
        "api_key = userdata.get('SECRET_KEY')\n",
        "\n",
        "genai.configure(api_key=api_key)"
      ],
      "metadata": {
        "id": "m3ewVn9M0JJ-"
      },
      "execution_count": null,
      "outputs": []
    },
    {
      "cell_type": "markdown",
      "source": [
        "# Listar os modelos disponiveis"
      ],
      "metadata": {
        "id": "Ne4eGjG162ky"
      }
    },
    {
      "cell_type": "code",
      "source": [
        "for m in genai.list_models():\n",
        "  if 'generateContent' in m.supported_generation_methods:\n",
        "    print(m.name)"
      ],
      "metadata": {
        "colab": {
          "base_uri": "https://localhost:8080/",
          "height": 142
        },
        "id": "tGTVzfQk67zm",
        "outputId": "4520928b-6669-49ce-db5e-bd336d98ef5c"
      },
      "execution_count": null,
      "outputs": [
        {
          "output_type": "stream",
          "name": "stdout",
          "text": [
            "models/gemini-1.0-pro\n",
            "models/gemini-1.0-pro-001\n",
            "models/gemini-1.0-pro-latest\n",
            "models/gemini-1.0-pro-vision-latest\n",
            "models/gemini-1.5-pro-latest\n",
            "models/gemini-pro\n",
            "models/gemini-pro-vision\n"
          ]
        }
      ]
    },
    {
      "cell_type": "code",
      "source": [
        "generation_config = {\n",
        "    \"candidate_count\":1,\n",
        "    \"temperature\":0.5,\n",
        "}"
      ],
      "metadata": {
        "id": "jvoYQlsS8W6S"
      },
      "execution_count": null,
      "outputs": []
    },
    {
      "cell_type": "code",
      "source": [
        "safety_settings = {\n",
        "    \"HARASSMENT\": \"BLOCK_NONE\",\n",
        "    \"HATE\": \"BLOCK_NONE\",\n",
        "    \"SEXUAL\": \"BLOCK_NONE\",\n",
        "    \"DANGEROUS\": \"BLOCK_NONE\",\n",
        "}"
      ],
      "metadata": {
        "id": "-tp6Iokm8wc9"
      },
      "execution_count": null,
      "outputs": []
    },
    {
      "cell_type": "markdown",
      "source": [
        "# Initialize the Generative Model"
      ],
      "metadata": {
        "id": "Xp4nm-ZJ2j6m"
      }
    },
    {
      "cell_type": "code",
      "source": [
        "model = genai.GenerativeModel(model_name='gemini-1.0-pro',\n",
        "                              generation_config=generation_config,\n",
        "                              safety_settings=safety_settings)"
      ],
      "metadata": {
        "id": "BILZKyMd1Zc0"
      },
      "execution_count": null,
      "outputs": []
    },
    {
      "cell_type": "markdown",
      "source": [
        "# Generate text"
      ],
      "metadata": {
        "id": "GreOsEhP3Xfu"
      }
    },
    {
      "cell_type": "code",
      "source": [
        "response = model.generate_content(\"Vamos aprender sobre predicados e verbos. Me dê exemplos.\")\n",
        "print(response.text)"
      ],
      "metadata": {
        "colab": {
          "base_uri": "https://localhost:8080/",
          "height": 642
        },
        "id": "D4eaHp3x2gNV",
        "outputId": "3b0a7ea3-7aeb-4ba5-8e55-77e0c08483c5"
      },
      "execution_count": null,
      "outputs": [
        {
          "output_type": "stream",
          "name": "stdout",
          "text": [
            "**Predicados**\n",
            "\n",
            "* São palavras ou grupos de palavras que afirmam algo sobre o sujeito da frase.\n",
            "* Podem ser verbos, adjetivos ou substantivos.\n",
            "\n",
            "**Exemplos de Predicados:**\n",
            "\n",
            "* **Verbais:**\n",
            "    * O menino correu.\n",
            "    * A professora ensinou.\n",
            "    * O carro parou.\n",
            "* **Nominais:**\n",
            "    * O aluno é inteligente.\n",
            "    * A casa é grande.\n",
            "    * O livro é interessante.\n",
            "* **Verbo-nominais:**\n",
            "    * O aluno está estudando.\n",
            "    * A professora está corrigindo provas.\n",
            "    * O carro está estacionado.\n",
            "\n",
            "**Verbos**\n",
            "\n",
            "* São palavras que expressam ações, estados ou ocorrências.\n",
            "* Podem ser transitivos (requerem um objeto direto) ou intransitivos (não requerem um objeto direto).\n",
            "\n",
            "**Exemplos de Verbos:**\n",
            "\n",
            "* **Transitivos:**\n",
            "    * Comer (objeto direto: comida)\n",
            "    * Escrever (objeto direto: carta)\n",
            "    * Pintar (objeto direto: quadro)\n",
            "* **Intransitivos:**\n",
            "    * Dormir\n",
            "    * Andar\n",
            "    * Chover\n"
          ]
        }
      ]
    },
    {
      "cell_type": "code",
      "source": [
        "chat = model.start_chat(history=[])"
      ],
      "metadata": {
        "id": "TmojQ1hy4Fjn"
      },
      "execution_count": null,
      "outputs": []
    },
    {
      "cell_type": "code",
      "source": [
        "prompt = input(\"Esperando prompt: \")\n",
        "\n",
        "while prompt != 'fim':\n",
        "  response = chat.send_message(prompt)\n",
        "  print(\"Resposta: \", response.text, \"\\n\")\n",
        "  prompt = input(\"Esperando prompt: \")"
      ],
      "metadata": {
        "colab": {
          "base_uri": "https://localhost:8080/",
          "height": 984
        },
        "id": "PE6-OXukQWCQ",
        "outputId": "87288703-7904-4726-d515-40835b461de2"
      },
      "execution_count": null,
      "outputs": [
        {
          "name": "stdout",
          "output_type": "stream",
          "text": [
            "Esperando prompt: me defina adjetivo\n",
            "Resposta:  **Adjetivo**\n",
            "\n",
            "Um adjetivo é uma palavra que descreve ou modifica um substantivo ou pronome. Ele fornece informações adicionais sobre as qualidades, características ou estado do substantivo ou pronome.\n",
            "\n",
            "**Características dos Adjetivos:**\n",
            "\n",
            "* Descrevem substantivos ou pronomes.\n",
            "* Podem ser usados antes ou depois do substantivo ou pronome.\n",
            "* Podem ser qualificativos (descrevem qualidades) ou possessivos (indicam posse).\n",
            "\n",
            "**Exemplos:**\n",
            "\n",
            "* A **linda** garota estava feliz. (Adjetivo qualificativo)\n",
            "* O **meu** carro é azul. (Adjetivo possessivo)\n",
            "\n",
            "**Funções dos Adjetivos:**\n",
            "\n",
            "* Fornecer informações descritivas sobre substantivos ou pronomes.\n",
            "* Tornar a escrita e a fala mais vívidas e interessantes.\n",
            "* Ajudar a criar imagens mentais e emoções.\n",
            "\n",
            "**Tipos de Adjetivos:**\n",
            "\n",
            "**Adjetivos Qualificativos:**\n",
            "\n",
            "* Descrevem as qualidades ou características de substantivos ou pronomes.\n",
            "* Podem ser de vários tipos, como:\n",
            "    * Descritivos (ex: bonito, feio)\n",
            "    * Demonstrativos (ex: este, aquele)\n",
            "    * Possessivos (ex: meu, seu)\n",
            "    * Numerais (ex: primeiro, segundo)\n",
            "    * Interrogativos (ex: qual, que)\n",
            "\n",
            "**Adjetivos Possessivos:**\n",
            "\n",
            "* Indicam posse ou pertencimento.\n",
            "* São usados antes de substantivos para mostrar a quem ou a que algo pertence.\n",
            "* Exemplos: meu, seu, dela, deles\n",
            "\n",
            "**Como identificar adjetivos:**\n",
            "\n",
            "* Faça a pergunta \"qual\" ou \"como\" antes do substantivo ou pronome. A resposta será o adjetivo.\n",
            "* Tente remover o adjetivo da frase. Se a frase ainda fizer sentido sem ele, provavelmente é um adjetivo.\n",
            "\n",
            "**Exemplo:**\n",
            "\n",
            "* A **linda** garota estava feliz.\n",
            "* A garota estava feliz.\n",
            "\n",
            "A frase ainda faz sentido sem o adjetivo \"linda\", então \"linda\" é um adjetivo. \n",
            "\n",
            "Esperando prompt: fim\n"
          ]
        }
      ]
    },
    {
      "cell_type": "markdown",
      "source": [
        "#Melhorando a visualização"
      ],
      "metadata": {
        "id": "QELfwBViSRAG"
      }
    },
    {
      "cell_type": "code",
      "source": [
        "import textwrap\n",
        "from IPython.display import display\n",
        "from IPython.display import Markdown\n",
        "\n",
        "def to_markdown(text):\n",
        "  text = text.replace('*',' *')\n",
        "  return Markdown(textwrap.indent(text, '> ', predicate=lambda _:True))\n",
        "\n",
        "  #imprime o historico\n",
        "  for message in chat.history:\n",
        "    display(to_markdown(f'**{message.role}**: {message.parts[0].text}'))\n",
        "    print('--------------------------------------------')\n"
      ],
      "metadata": {
        "id": "EIakQi-ySXG-"
      },
      "execution_count": null,
      "outputs": []
    },
    {
      "cell_type": "code",
      "source": [],
      "metadata": {
        "id": "WE02kNL_SNFl"
      },
      "execution_count": null,
      "outputs": []
    }
  ]
}